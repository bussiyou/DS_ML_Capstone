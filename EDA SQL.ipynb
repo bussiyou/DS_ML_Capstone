{
    "cells": [
        {
            "metadata": {},
            "cell_type": "markdown",
            "source": "<center>\n    <img src=\"https://gitlab.com/ibm/skills-network/courses/placeholder101/-/raw/master/labs/module%201/images/IDSNlogo.png\"  width=\"300\" alt=\"cognitiveclass.ai logo\"  />\n</center>\n\n<h1 align=center><font size = 5>Assignment: SQL Notebook for Peer Assignment</font></h1>\n\nEstimated time needed: **60** minutes.\n\n## Introduction\n\nUsing this Python notebook you will:\n\n1.  Understand the Spacex DataSet\n2.  Load the dataset  into the corresponding table in a Db2 database\n3.  Execute SQL queries to answer assignment questions\n"
        },
        {
            "metadata": {},
            "cell_type": "markdown",
            "source": "## Overview of the DataSet\n\nSpaceX has gained worldwide attention for a series of historic milestones.\n\nIt is the only private company ever to return a spacecraft from low-earth orbit, which it first accomplished in December 2010.\nSpaceX advertises Falcon 9 rocket launches on its website with a cost of 62 million dollars wheras other providers cost upward of 165 million dollars each, much of the savings is because Space X can reuse the first stage.\n\nTherefore if we can determine if the first stage will land, we can determine the cost of a launch.\n\nThis information can be used if an alternate company wants to bid against SpaceX for a rocket launch.\n\nThis dataset includes a record for each payload carried during a SpaceX mission into outer space.\n"
        },
        {
            "metadata": {},
            "cell_type": "markdown",
            "source": "### Download the datasets\n\nThis assignment requires you to load the spacex dataset.\n\nIn many cases the dataset to be analyzed is available as a .CSV (comma separated values) file, perhaps on the internet. Click on the link below to download and save the dataset (.CSV file):\n\n<a href=\"https://cf-courses-data.s3.us.cloud-object-storage.appdomain.cloud/IBM-DS0321EN-SkillsNetwork/labs/module_2/data/Spacex.csv?utm_medium=Exinfluencer&utm_source=Exinfluencer&utm_content=000026UJ&utm_term=10006555&utm_id=NA-SkillsNetwork-Channel-SkillsNetworkCoursesIBMDS0321ENSkillsNetwork26802033-2021-01-01\" target=\"_blank\">Spacex DataSet</a>\n"
        },
        {
            "metadata": {},
            "cell_type": "markdown",
            "source": "### Store the dataset in database table\n\n**it is highly recommended to manually load the table using the database console LOAD tool in DB2**.\n\n<img src = \"https://cf-courses-data.s3.us.cloud-object-storage.appdomain.cloud/IBM-DS0321EN-SkillsNetwork/labs/module_2/images/spacexload.png\">\n\nNow open the Db2 console, open the LOAD tool, Select / Drag the .CSV file for the  dataset, Next create a New Table, and then follow the steps on-screen instructions to load the data. Name the new table as follows:\n\n**SPACEXDATASET**\n\n**Follow these steps while using old DB2 UI which is having Open Console Screen**\n\n**Note:While loading Spacex dataset, ensure that detect datatypes is disabled. Later click on the pencil icon(edit option).**\n\n1.  Change the Date Format by manually typing DD-MM-YYYY and timestamp format as DD-MM-YYYY HH\\:MM:SS\n\n2.  Change the PAYLOAD_MASS\\_\\_KG\\_  datatype  to INTEGER.\n\n<img src = \"https://cf-courses-data.s3.us.cloud-object-storage.appdomain.cloud/IBM-DS0321EN-SkillsNetwork/labs/module_2/images/spacexload2.png\">\n"
        },
        {
            "metadata": {},
            "cell_type": "markdown",
            "source": "**Changes to be considered when having DB2 instance with the new UI having Go to UI screen**\n\n*   Refer to this insruction in this <a href=\"https://cf-courses-data.s3.us.cloud-object-storage.appdomain.cloud/IBMDeveloperSkillsNetwork-DB0201EN-SkillsNetwork/labs/Labs_Coursera_V5/labs/Lab%20-%20Sign%20up%20for%20IBM%20Cloud%20-%20Create%20Db2%20service%20instance%20-%20Get%20started%20with%20the%20Db2%20console/instructional-labs.md.html?utm_medium=Exinfluencer&utm_source=Exinfluencer&utm_content=000026UJ&utm_term=10006555&utm_id=NA-SkillsNetwork-Channel-SkillsNetworkCoursesIBMDS0321ENSkillsNetwork26802033-2021-01-01\">link</a> for viewing  the new  Go to UI screen.\n\n*   Later click on **Data link(below SQL)**  in the Go to UI screen  and click on **Load Data** tab.\n\n*   Later browse for the downloaded spacex file.\n\n<img src=\"https://cf-courses-data.s3.us.cloud-object-storage.appdomain.cloud/IBM-DS0321EN-SkillsNetwork/labs/module_2/images/browsefile.png\" width=\"800\"/>\n\n*   Once done select the schema andload the file.\n\n <img src=\"https://cf-courses-data.s3.us.cloud-object-storage.appdomain.cloud/IBM-DS0321EN-SkillsNetwork/labs/module_2/images/spacexload3.png\" width=\"800\"/>\n"
        },
        {
            "metadata": {},
            "cell_type": "code",
            "source": "!pip install sqlalchemy==1.3.9\n!pip install ibm_db_sa\n!pip install ipython-sql",
            "execution_count": 1,
            "outputs": [
                {
                    "output_type": "stream",
                    "text": "Collecting sqlalchemy==1.3.9\n  Downloading SQLAlchemy-1.3.9.tar.gz (6.0 MB)\n\u001b[K     |\u2588\u2588\u2588\u2588\u2588\u2588\u2588\u2588\u2588\u2588\u2588\u2588\u2588\u2588\u2588\u2588\u2588\u2588\u2588\u2588\u2588\u2588\u2588\u2588\u2588\u2588\u2588\u2588\u2588\u2588\u2588\u2588| 6.0 MB 12.2 MB/s eta 0:00:01\n\u001b[?25hBuilding wheels for collected packages: sqlalchemy\n  Building wheel for sqlalchemy (setup.py) ... \u001b[?25ldone\n\u001b[?25h  Created wheel for sqlalchemy: filename=SQLAlchemy-1.3.9-cp38-cp38-linux_x86_64.whl size=1209502 sha256=1b48124d349facaf58845b8e09f6d8ba480d3c3d1967b01e454f3b72b0ce927d\n  Stored in directory: /tmp/wsuser/.cache/pip/wheels/cb/43/46/fa638f2422554332b7865d600275b24568bf60e76104a94bb4\nSuccessfully built sqlalchemy\nInstalling collected packages: sqlalchemy\n  Attempting uninstall: sqlalchemy\n    Found existing installation: SQLAlchemy 1.4.22\n    Uninstalling SQLAlchemy-1.4.22:\n      Successfully uninstalled SQLAlchemy-1.4.22\nSuccessfully installed sqlalchemy-1.3.9\nRequirement already satisfied: ibm_db_sa in /opt/conda/envs/Python-3.8-main/lib/python3.8/site-packages (0.3.7)\nRequirement already satisfied: ibm-db>=2.0.0 in /opt/conda/envs/Python-3.8-main/lib/python3.8/site-packages (from ibm_db_sa) (3.0.4)\nRequirement already satisfied: sqlalchemy>=0.7.3 in /opt/conda/envs/Python-3.8-main/lib/python3.8/site-packages (from ibm_db_sa) (1.3.9)\nCollecting ipython-sql\n  Downloading ipython_sql-0.4.0-py3-none-any.whl (19 kB)\nRequirement already satisfied: sqlalchemy>=0.6.7 in /opt/conda/envs/Python-3.8-main/lib/python3.8/site-packages (from ipython-sql) (1.3.9)\nRequirement already satisfied: six in /opt/conda/envs/Python-3.8-main/lib/python3.8/site-packages (from ipython-sql) (1.15.0)\nCollecting sqlparse\n  Downloading sqlparse-0.4.2-py3-none-any.whl (42 kB)\n\u001b[K     |\u2588\u2588\u2588\u2588\u2588\u2588\u2588\u2588\u2588\u2588\u2588\u2588\u2588\u2588\u2588\u2588\u2588\u2588\u2588\u2588\u2588\u2588\u2588\u2588\u2588\u2588\u2588\u2588\u2588\u2588\u2588\u2588| 42 kB 2.5 MB/s  eta 0:00:01\n\u001b[?25hRequirement already satisfied: ipython-genutils>=0.1.0 in /opt/conda/envs/Python-3.8-main/lib/python3.8/site-packages (from ipython-sql) (0.2.0)\nCollecting prettytable<1\n  Downloading prettytable-0.7.2.zip (28 kB)\nRequirement already satisfied: ipython>=1.0 in /opt/conda/envs/Python-3.8-main/lib/python3.8/site-packages (from ipython-sql) (7.22.0)\nRequirement already satisfied: jedi>=0.16 in /opt/conda/envs/Python-3.8-main/lib/python3.8/site-packages (from ipython>=1.0->ipython-sql) (0.17.2)\nRequirement already satisfied: pexpect>4.3 in /opt/conda/envs/Python-3.8-main/lib/python3.8/site-packages (from ipython>=1.0->ipython-sql) (4.8.0)\nRequirement already satisfied: decorator in /opt/conda/envs/Python-3.8-main/lib/python3.8/site-packages (from ipython>=1.0->ipython-sql) (5.0.9)\nRequirement already satisfied: prompt-toolkit!=3.0.0,!=3.0.1,<3.1.0,>=2.0.0 in /opt/conda/envs/Python-3.8-main/lib/python3.8/site-packages (from ipython>=1.0->ipython-sql) (3.0.17)\nRequirement already satisfied: setuptools>=18.5 in /opt/conda/envs/Python-3.8-main/lib/python3.8/site-packages (from ipython>=1.0->ipython-sql) (52.0.0.post20210125)\nRequirement already satisfied: backcall in /opt/conda/envs/Python-3.8-main/lib/python3.8/site-packages (from ipython>=1.0->ipython-sql) (0.2.0)\nRequirement already satisfied: traitlets>=4.2 in /opt/conda/envs/Python-3.8-main/lib/python3.8/site-packages (from ipython>=1.0->ipython-sql) (5.0.5)\nRequirement already satisfied: pygments in /opt/conda/envs/Python-3.8-main/lib/python3.8/site-packages (from ipython>=1.0->ipython-sql) (2.9.0)\nRequirement already satisfied: pickleshare in /opt/conda/envs/Python-3.8-main/lib/python3.8/site-packages (from ipython>=1.0->ipython-sql) (0.7.5)\nRequirement already satisfied: parso<0.8.0,>=0.7.0 in /opt/conda/envs/Python-3.8-main/lib/python3.8/site-packages (from jedi>=0.16->ipython>=1.0->ipython-sql) (0.7.0)\nRequirement already satisfied: ptyprocess>=0.5 in /opt/conda/envs/Python-3.8-main/lib/python3.8/site-packages (from pexpect>4.3->ipython>=1.0->ipython-sql) (0.7.0)\nRequirement already satisfied: wcwidth in /opt/conda/envs/Python-3.8-main/lib/python3.8/site-packages (from prompt-toolkit!=3.0.0,!=3.0.1,<3.1.0,>=2.0.0->ipython>=1.0->ipython-sql) (0.2.5)\nBuilding wheels for collected packages: prettytable\n  Building wheel for prettytable (setup.py) ... \u001b[?25ldone\n\u001b[?25h  Created wheel for prettytable: filename=prettytable-0.7.2-py3-none-any.whl size=13700 sha256=041ab02363df640f275b6b0815affb5bb49d28021c7a0d45a3a51f941c324da0\n  Stored in directory: /tmp/wsuser/.cache/pip/wheels/48/6d/77/9517cb933af254f51a446f1a5ec9c2be3e45f17384940bce68\nSuccessfully built prettytable\nInstalling collected packages: sqlparse, prettytable, ipython-sql\nSuccessfully installed ipython-sql-0.4.0 prettytable-0.7.2 sqlparse-0.4.2\n",
                    "name": "stdout"
                }
            ]
        },
        {
            "metadata": {},
            "cell_type": "markdown",
            "source": "### Connect to the database\n\nLet us first load the SQL extension and establish a connection with the database\n"
        },
        {
            "metadata": {},
            "cell_type": "code",
            "source": "%load_ext sql\n",
            "execution_count": 5,
            "outputs": [
                {
                    "output_type": "stream",
                    "text": "The sql extension is already loaded. To reload it, use:\n  %reload_ext sql\n",
                    "name": "stdout"
                }
            ]
        },
        {
            "metadata": {},
            "cell_type": "markdown",
            "source": "**DB2 magic in case of old UI service credentials.**\n\nIn the next cell enter your db2 connection string. Recall you created Service Credentials for your Db2 instance before. From the **uri** field of your Db2 service credentials copy everything after db2:// (except the double quote at the end) and paste it in the cell below after ibm_db_sa://\n\n<img src =\"https://cf-courses-data.s3.us.cloud-object-storage.appdomain.cloud/IBMDeveloperSkillsNetwork-DB0201EN-SkillsNetwork/labs/FinalModule_edX/images/URI.jpg\">\n\nin the following format\n\n**%sql ibm_db_sa://my-username:my-password\\@my-hostname:my-port/my-db-name**\n\n**DB2 magic in case of new UI service credentials.**\n\n<img src =\"https://cf-courses-data.s3.us.cloud-object-storage.appdomain.cloud/IBM-DS0321EN-SkillsNetwork/labs/module_2/images/servicecredentials.png\" width=600>  \n\n*   Use the following format.\n\n*   Add security=SSL at the end\n\n**%sql ibm_db_sa://my-username:my-password\\@my-hostname:my-port/my-db-name?security=SSL**\n"
        },
        {
            "metadata": {},
            "cell_type": "code",
            "source": "%sql ibm_db_sa://qqh11840:bSnU5Qn6jCUFjDLY@ba99a9e6-d59e-4883-8fc0-d6a8c9f7a08f.c1ogj3sd0tgtu0lqde00.databases.appdomain.cloud:31321/bludb?security=SSL",
            "execution_count": 3,
            "outputs": []
        },
        {
            "metadata": {},
            "cell_type": "markdown",
            "source": "## Tasks\n\nNow write and execute SQL queries to solve the assignment tasks.\n\n### Task 1\n\n##### Display the names of the unique launch sites  in the space mission\n"
        },
        {
            "metadata": {},
            "cell_type": "code",
            "source": "%%sql \nselect distinct launch_site from SPACEXDATA",
            "execution_count": 8,
            "outputs": [
                {
                    "output_type": "stream",
                    "text": " * ibm_db_sa://qqh11840:***@ba99a9e6-d59e-4883-8fc0-d6a8c9f7a08f.c1ogj3sd0tgtu0lqde00.databases.appdomain.cloud:31321/bludb\nDone.\n",
                    "name": "stdout"
                },
                {
                    "output_type": "execute_result",
                    "execution_count": 8,
                    "data": {
                        "text/plain": "[('CCAFS LC-40',), ('CCAFS SLC-40',), ('KSC LC-39A',), ('VAFB SLC-4E',)]",
                        "text/html": "<table>\n    <tr>\n        <th>launch_site</th>\n    </tr>\n    <tr>\n        <td>CCAFS LC-40</td>\n    </tr>\n    <tr>\n        <td>CCAFS SLC-40</td>\n    </tr>\n    <tr>\n        <td>KSC LC-39A</td>\n    </tr>\n    <tr>\n        <td>VAFB SLC-4E</td>\n    </tr>\n</table>"
                    },
                    "metadata": {}
                }
            ]
        },
        {
            "metadata": {},
            "cell_type": "markdown",
            "source": "### Task 2\n\n##### Display 5 records where launch sites begin with the string 'KSC'\n"
        },
        {
            "metadata": {},
            "cell_type": "code",
            "source": "%%sql \nselect *\nfrom SPACEXDATA\nwhere launch_site like 'KSC%'\nlimit 5",
            "execution_count": 13,
            "outputs": [
                {
                    "output_type": "stream",
                    "text": " * ibm_db_sa://qqh11840:***@ba99a9e6-d59e-4883-8fc0-d6a8c9f7a08f.c1ogj3sd0tgtu0lqde00.databases.appdomain.cloud:31321/bludb\nDone.\n",
                    "name": "stdout"
                },
                {
                    "output_type": "execute_result",
                    "execution_count": 13,
                    "data": {
                        "text/plain": "[('2/19/17', datetime.time(14, 39), 'F9 FT B1031.1', 'KSC LC-39A', 'SpaceX CRS-10', 2490, 'LEO (ISS)', 'NASA (CRS)', 'Success', 'Success (ground pad)'),\n ('3/16/17', datetime.time(6, 0), 'F9 FT B1030', 'KSC LC-39A', 'EchoStar 23', 5600, 'GTO', 'EchoStar', 'Success', 'No attempt'),\n ('3/30/17', datetime.time(22, 27), 'F9 FT  B1021.2', 'KSC LC-39A', 'SES-10', 5300, 'GTO', 'SES', 'Success', 'Success (drone ship)'),\n ('1/5/17', datetime.time(11, 15), 'F9 FT B1032.1', 'KSC LC-39A', 'NROL-76', 5300, 'LEO', 'NRO', 'Success', 'Success (ground pad)'),\n ('5/15/17', datetime.time(23, 21), 'F9 FT B1034', 'KSC LC-39A', 'Inmarsat-5 F4', 6070, 'GTO', 'Inmarsat', 'Success', 'No attempt')]",
                        "text/html": "<table>\n    <tr>\n        <th>DATE</th>\n        <th>time__utc_</th>\n        <th>booster_version</th>\n        <th>launch_site</th>\n        <th>payload</th>\n        <th>payload_mass__kg_</th>\n        <th>orbit</th>\n        <th>customer</th>\n        <th>mission_outcome</th>\n        <th>landing__outcome</th>\n    </tr>\n    <tr>\n        <td>2/19/17</td>\n        <td>14:39:00</td>\n        <td>F9 FT B1031.1</td>\n        <td>KSC LC-39A</td>\n        <td>SpaceX CRS-10</td>\n        <td>2490</td>\n        <td>LEO (ISS)</td>\n        <td>NASA (CRS)</td>\n        <td>Success</td>\n        <td>Success (ground pad)</td>\n    </tr>\n    <tr>\n        <td>3/16/17</td>\n        <td>06:00:00</td>\n        <td>F9 FT B1030</td>\n        <td>KSC LC-39A</td>\n        <td>EchoStar 23</td>\n        <td>5600</td>\n        <td>GTO</td>\n        <td>EchoStar</td>\n        <td>Success</td>\n        <td>No attempt</td>\n    </tr>\n    <tr>\n        <td>3/30/17</td>\n        <td>22:27:00</td>\n        <td>F9 FT  B1021.2</td>\n        <td>KSC LC-39A</td>\n        <td>SES-10</td>\n        <td>5300</td>\n        <td>GTO</td>\n        <td>SES</td>\n        <td>Success</td>\n        <td>Success (drone ship)</td>\n    </tr>\n    <tr>\n        <td>1/5/17</td>\n        <td>11:15:00</td>\n        <td>F9 FT B1032.1</td>\n        <td>KSC LC-39A</td>\n        <td>NROL-76</td>\n        <td>5300</td>\n        <td>LEO</td>\n        <td>NRO</td>\n        <td>Success</td>\n        <td>Success (ground pad)</td>\n    </tr>\n    <tr>\n        <td>5/15/17</td>\n        <td>23:21:00</td>\n        <td>F9 FT B1034</td>\n        <td>KSC LC-39A</td>\n        <td>Inmarsat-5 F4</td>\n        <td>6070</td>\n        <td>GTO</td>\n        <td>Inmarsat</td>\n        <td>Success</td>\n        <td>No attempt</td>\n    </tr>\n</table>"
                    },
                    "metadata": {}
                }
            ]
        },
        {
            "metadata": {},
            "cell_type": "markdown",
            "source": "### Task 3\n\n##### Display the total payload mass carried by boosters launched by NASA (CRS)\n"
        },
        {
            "metadata": {},
            "cell_type": "code",
            "source": "%%sql \nselect customer, sum(PAYLOAD_MASS__KG_) as Total_Payload\nfrom SPACEXDATA\nwhere customer like 'NASA (CRS)'\ngroup by customer",
            "execution_count": 14,
            "outputs": [
                {
                    "output_type": "stream",
                    "text": " * ibm_db_sa://qqh11840:***@ba99a9e6-d59e-4883-8fc0-d6a8c9f7a08f.c1ogj3sd0tgtu0lqde00.databases.appdomain.cloud:31321/bludb\nDone.\n",
                    "name": "stdout"
                },
                {
                    "output_type": "execute_result",
                    "execution_count": 14,
                    "data": {
                        "text/plain": "[('NASA (CRS)', 45596)]",
                        "text/html": "<table>\n    <tr>\n        <th>customer</th>\n        <th>total_payload</th>\n    </tr>\n    <tr>\n        <td>NASA (CRS)</td>\n        <td>45596</td>\n    </tr>\n</table>"
                    },
                    "metadata": {}
                }
            ]
        },
        {
            "metadata": {},
            "cell_type": "markdown",
            "source": "### Task 4\n\n##### Display average payload mass carried by booster version F9 v1.1\n"
        },
        {
            "metadata": {},
            "cell_type": "code",
            "source": "%%sql \nselect booster_version, avg(PAYLOAD_MASS__KG_) as Avg_Payload\nfrom SPACEXDATA\nwhere booster_version like 'F9 v1.1'\ngroup by booster_version",
            "execution_count": 16,
            "outputs": [
                {
                    "output_type": "stream",
                    "text": " * ibm_db_sa://qqh11840:***@ba99a9e6-d59e-4883-8fc0-d6a8c9f7a08f.c1ogj3sd0tgtu0lqde00.databases.appdomain.cloud:31321/bludb\nDone.\n",
                    "name": "stdout"
                },
                {
                    "output_type": "execute_result",
                    "execution_count": 16,
                    "data": {
                        "text/plain": "[('F9 v1.1', 2928)]",
                        "text/html": "<table>\n    <tr>\n        <th>booster_version</th>\n        <th>avg_payload</th>\n    </tr>\n    <tr>\n        <td>F9 v1.1</td>\n        <td>2928</td>\n    </tr>\n</table>"
                    },
                    "metadata": {}
                }
            ]
        },
        {
            "metadata": {},
            "cell_type": "markdown",
            "source": "### Task 5\n\n##### List the date where the succesful landing outcome in drone ship was acheived.\n\n*Hint:Use min function*\n"
        },
        {
            "metadata": {},
            "cell_type": "code",
            "source": "%%sql\nSELECT min(DATE)\nFROM SPACEXDATA\nWHERE mission_outcome LIKE 'Success' and landing__outcome like '%(drone ship)'",
            "execution_count": 26,
            "outputs": [
                {
                    "output_type": "stream",
                    "text": " * ibm_db_sa://qqh11840:***@ba99a9e6-d59e-4883-8fc0-d6a8c9f7a08f.c1ogj3sd0tgtu0lqde00.databases.appdomain.cloud:31321/bludb\nDone.\n",
                    "name": "stdout"
                },
                {
                    "output_type": "execute_result",
                    "execution_count": 26,
                    "data": {
                        "text/plain": "[('1/14/17',)]",
                        "text/html": "<table>\n    <tr>\n        <th>1</th>\n    </tr>\n    <tr>\n        <td>1/14/17</td>\n    </tr>\n</table>"
                    },
                    "metadata": {}
                }
            ]
        },
        {
            "metadata": {},
            "cell_type": "markdown",
            "source": "### Task 6\n\n##### List the names of the boosters which have success in ground pad  and have payload mass greater than 4000 but less than 6000\n"
        },
        {
            "metadata": {},
            "cell_type": "code",
            "source": "%%sql\nSELECT booster_version\nFROM SPACEXDATA\nWHERE mission_outcome LIKE 'Success' and landing__outcome like '%(ground pad)' and PAYLOAD_MASS__KG_ between 4000 and 6000",
            "execution_count": 28,
            "outputs": [
                {
                    "output_type": "stream",
                    "text": " * ibm_db_sa://qqh11840:***@ba99a9e6-d59e-4883-8fc0-d6a8c9f7a08f.c1ogj3sd0tgtu0lqde00.databases.appdomain.cloud:31321/bludb\nDone.\n",
                    "name": "stdout"
                },
                {
                    "output_type": "execute_result",
                    "execution_count": 28,
                    "data": {
                        "text/plain": "[('F9 FT B1032.1',), ('F9 B4 B1040.1',)]",
                        "text/html": "<table>\n    <tr>\n        <th>booster_version</th>\n    </tr>\n    <tr>\n        <td>F9 FT B1032.1</td>\n    </tr>\n    <tr>\n        <td>F9 B4 B1040.1</td>\n    </tr>\n</table>"
                    },
                    "metadata": {}
                }
            ]
        },
        {
            "metadata": {},
            "cell_type": "markdown",
            "source": "### Task 7\n\n##### List the total number of successful and failure mission outcomes\n"
        },
        {
            "metadata": {},
            "cell_type": "code",
            "source": "%%sql \nselect mission_outcome, count(*)\nfrom SPACEXDATA\ngroup by mission_outcome",
            "execution_count": 30,
            "outputs": [
                {
                    "output_type": "stream",
                    "text": " * ibm_db_sa://qqh11840:***@ba99a9e6-d59e-4883-8fc0-d6a8c9f7a08f.c1ogj3sd0tgtu0lqde00.databases.appdomain.cloud:31321/bludb\nDone.\n",
                    "name": "stdout"
                },
                {
                    "output_type": "execute_result",
                    "execution_count": 30,
                    "data": {
                        "text/plain": "[('Failure (in flight)', 1),\n ('Success', 99),\n ('Success (payload status unclear)', 1)]",
                        "text/html": "<table>\n    <tr>\n        <th>mission_outcome</th>\n        <th>2</th>\n    </tr>\n    <tr>\n        <td>Failure (in flight)</td>\n        <td>1</td>\n    </tr>\n    <tr>\n        <td>Success</td>\n        <td>99</td>\n    </tr>\n    <tr>\n        <td>Success (payload status unclear)</td>\n        <td>1</td>\n    </tr>\n</table>"
                    },
                    "metadata": {}
                }
            ]
        },
        {
            "metadata": {},
            "cell_type": "markdown",
            "source": "### Task 8\n\n##### List the   names of the booster_versions which have carried the maximum payload mass. Use a subquery\n"
        },
        {
            "metadata": {},
            "cell_type": "code",
            "source": "%%sql\nselect booster_version, max(payload_mass__kg_) as Max_Load\nfrom SPACEXDATA\ngroup by booster_version\norder by Max_Load desc",
            "execution_count": 34,
            "outputs": [
                {
                    "output_type": "stream",
                    "text": " * ibm_db_sa://qqh11840:***@ba99a9e6-d59e-4883-8fc0-d6a8c9f7a08f.c1ogj3sd0tgtu0lqde00.databases.appdomain.cloud:31321/bludb\nDone.\n",
                    "name": "stdout"
                },
                {
                    "output_type": "execute_result",
                    "execution_count": 34,
                    "data": {
                        "text/plain": "[('F9 B5 B1048.4', 15600),\n ('F9 B5 B1048.5', 15600),\n ('F9 B5 B1049.4', 15600),\n ('F9 B5 B1049.5', 15600),\n ('F9 B5 B1049.7', 15600),\n ('F9 B5 B1051.3', 15600),\n ('F9 B5 B1051.4', 15600),\n ('F9 B5 B1051.6', 15600),\n ('F9 B5 B1056.4', 15600),\n ('F9 B5 B1058.3', 15600),\n ('F9 B5 B1060.2', 15600),\n ('F9 B5 B1060.3', 15600),\n ('F9 B5 B1049.6', 15440),\n ('F9 B5 B1059.3', 15410),\n ('F9 B5 B1051.5', 14932),\n ('F9 B5 B1049.3', 13620),\n ('F9 B5B1058.1', 12530),\n ('F9 B5B1061.1', 12500),\n ('F9 B5B1051.1', 12055),\n ('F9 B5 B1046.4', 12050),\n ('F9 B4  B1041.2', 9600),\n ('F9 B4 B1041.1', 9600),\n ('F9 B5 B1049.2', 9600),\n ('F9 B5B1048.1', 9600),\n ('F9 FT  B1036.2', 9600),\n ('F9 FT B1029.1', 9600),\n ('F9 FT B1036.1', 9600),\n ('F9 B5B1047.1', 7075),\n ('F9 B5B1049.1', 7060),\n ('F9 B5 B1056.3', 6956),\n ('F9 FT B1037', 6761),\n ('F9 B5 B1047.3', 6500),\n ('F9 B4  B1043.2', 6460),\n ('F9 B4 B1044', 6092),\n ('F9 FT B1034', 6070),\n ('F9 B5 B1046.2', 5800),\n ('F9 FT B1030', 5600),\n ('F9 B5 B1058.2', 5500),\n ('F9 B4  B1040.2', 5384),\n ('F9 B5 B1047.2', 5300),\n ('F9 FT  B1021.2', 5300),\n ('F9 FT B1032.1', 5300),\n ('F9 FT B1020', 5271),\n ('F9 FT  B1031.2', 5200),\n ('F9 B4 B1043.1', 5000),\n ('F9 B4 B1040.1', 4990),\n ('F9 B5 B1048.3', 4850),\n ('F9 v1.1 B1016', 4707),\n ('F9 FT B1022', 4696),\n ('F9 FT B1026', 4600),\n ('F9 v1.1', 4535),\n ('F9 v1.1 B1011', 4428),\n ('F9 B5B1054', 4400),\n ('F9 B5B1060.1', 4311),\n ('F9 B5B1062.1', 4311),\n ('F9 FT  B1032.2', 4230),\n ('F9 B5 B1051.2', 4200),\n ('F9 v1.1 B1014', 4159),\n ('F9 B5 B1046.3', 4000),\n ('F9 FT  B1029.2', 3669),\n ('F9 B5  B1046.1', 3600),\n ('F9 FT B1024', 3600),\n ('F9 B4 B1042.1', 3500),\n ('F9 B4 B1039.1', 3310),\n ('F9 FT B1021.1', 3136),\n ('F9 B5 B1059.4', 3130),\n ('F9 FT B1023.1', 3100),\n ('F9 B5 B1048.2', 3000),\n ('F9 B5 B1058.4', 2972),\n ('F9 FT B1035.1', 2708),\n ('F9 B4 B1045.2', 2697),\n ('F9 B4  B1039.2', 2647),\n ('F9 B5B1059.1', 2617),\n ('F9 B5B1050', 2500),\n ('F9 B5B1056.1', 2495),\n ('F9 FT B1031.1', 2490),\n ('F9 v1.1 B1012', 2395),\n ('F9 B5 B1056.2', 2268),\n ('F9 FT B1025.1', 2257),\n ('F9 v1.1 B1010', 2216),\n ('F9 FT  B1035.2', 2205),\n ('F9 FT  B1038.2', 2150),\n ('F9 FT B1019', 2034),\n ('F9 B5 B1059.2', 1977),\n ('F9 v1.1 B1018', 1952),\n ('F9 v1.1 B1015', 1898),\n ('F9 B5B1063.1', 1192),\n ('F9 v1.0  B0007', 677),\n ('F9 v1.1 B1013', 570),\n ('F9 v1.1 B1017', 553),\n ('F9 v1.0  B0005', 525),\n ('F9 v1.0  B0006', 500),\n ('F9 v1.1  B1003', 500),\n ('F9 FT B1038.1', 475),\n ('F9 B4 B1045.1', 362),\n ('F9 v1.0  B0003', 0),\n ('F9 v1.0  B0004', 0)]",
                        "text/html": "<table>\n    <tr>\n        <th>booster_version</th>\n        <th>max_load</th>\n    </tr>\n    <tr>\n        <td>F9 B5 B1048.4</td>\n        <td>15600</td>\n    </tr>\n    <tr>\n        <td>F9 B5 B1048.5</td>\n        <td>15600</td>\n    </tr>\n    <tr>\n        <td>F9 B5 B1049.4</td>\n        <td>15600</td>\n    </tr>\n    <tr>\n        <td>F9 B5 B1049.5</td>\n        <td>15600</td>\n    </tr>\n    <tr>\n        <td>F9 B5 B1049.7</td>\n        <td>15600</td>\n    </tr>\n    <tr>\n        <td>F9 B5 B1051.3</td>\n        <td>15600</td>\n    </tr>\n    <tr>\n        <td>F9 B5 B1051.4</td>\n        <td>15600</td>\n    </tr>\n    <tr>\n        <td>F9 B5 B1051.6</td>\n        <td>15600</td>\n    </tr>\n    <tr>\n        <td>F9 B5 B1056.4</td>\n        <td>15600</td>\n    </tr>\n    <tr>\n        <td>F9 B5 B1058.3</td>\n        <td>15600</td>\n    </tr>\n    <tr>\n        <td>F9 B5 B1060.2</td>\n        <td>15600</td>\n    </tr>\n    <tr>\n        <td>F9 B5 B1060.3</td>\n        <td>15600</td>\n    </tr>\n    <tr>\n        <td>F9 B5 B1049.6</td>\n        <td>15440</td>\n    </tr>\n    <tr>\n        <td>F9 B5 B1059.3</td>\n        <td>15410</td>\n    </tr>\n    <tr>\n        <td>F9 B5 B1051.5</td>\n        <td>14932</td>\n    </tr>\n    <tr>\n        <td>F9 B5 B1049.3</td>\n        <td>13620</td>\n    </tr>\n    <tr>\n        <td>F9 B5B1058.1</td>\n        <td>12530</td>\n    </tr>\n    <tr>\n        <td>F9 B5B1061.1</td>\n        <td>12500</td>\n    </tr>\n    <tr>\n        <td>F9 B5B1051.1</td>\n        <td>12055</td>\n    </tr>\n    <tr>\n        <td>F9 B5 B1046.4</td>\n        <td>12050</td>\n    </tr>\n    <tr>\n        <td>F9 B4  B1041.2</td>\n        <td>9600</td>\n    </tr>\n    <tr>\n        <td>F9 B4 B1041.1</td>\n        <td>9600</td>\n    </tr>\n    <tr>\n        <td>F9 B5 B1049.2</td>\n        <td>9600</td>\n    </tr>\n    <tr>\n        <td>F9 B5B1048.1</td>\n        <td>9600</td>\n    </tr>\n    <tr>\n        <td>F9 FT  B1036.2</td>\n        <td>9600</td>\n    </tr>\n    <tr>\n        <td>F9 FT B1029.1</td>\n        <td>9600</td>\n    </tr>\n    <tr>\n        <td>F9 FT B1036.1</td>\n        <td>9600</td>\n    </tr>\n    <tr>\n        <td>F9 B5B1047.1</td>\n        <td>7075</td>\n    </tr>\n    <tr>\n        <td>F9 B5B1049.1</td>\n        <td>7060</td>\n    </tr>\n    <tr>\n        <td>F9 B5 B1056.3</td>\n        <td>6956</td>\n    </tr>\n    <tr>\n        <td>F9 FT B1037</td>\n        <td>6761</td>\n    </tr>\n    <tr>\n        <td>F9 B5 B1047.3</td>\n        <td>6500</td>\n    </tr>\n    <tr>\n        <td>F9 B4  B1043.2</td>\n        <td>6460</td>\n    </tr>\n    <tr>\n        <td>F9 B4 B1044</td>\n        <td>6092</td>\n    </tr>\n    <tr>\n        <td>F9 FT B1034</td>\n        <td>6070</td>\n    </tr>\n    <tr>\n        <td>F9 B5 B1046.2</td>\n        <td>5800</td>\n    </tr>\n    <tr>\n        <td>F9 FT B1030</td>\n        <td>5600</td>\n    </tr>\n    <tr>\n        <td>F9 B5 B1058.2</td>\n        <td>5500</td>\n    </tr>\n    <tr>\n        <td>F9 B4  B1040.2</td>\n        <td>5384</td>\n    </tr>\n    <tr>\n        <td>F9 B5 B1047.2</td>\n        <td>5300</td>\n    </tr>\n    <tr>\n        <td>F9 FT  B1021.2</td>\n        <td>5300</td>\n    </tr>\n    <tr>\n        <td>F9 FT B1032.1</td>\n        <td>5300</td>\n    </tr>\n    <tr>\n        <td>F9 FT B1020</td>\n        <td>5271</td>\n    </tr>\n    <tr>\n        <td>F9 FT  B1031.2</td>\n        <td>5200</td>\n    </tr>\n    <tr>\n        <td>F9 B4 B1043.1</td>\n        <td>5000</td>\n    </tr>\n    <tr>\n        <td>F9 B4 B1040.1</td>\n        <td>4990</td>\n    </tr>\n    <tr>\n        <td>F9 B5 B1048.3</td>\n        <td>4850</td>\n    </tr>\n    <tr>\n        <td>F9 v1.1 B1016</td>\n        <td>4707</td>\n    </tr>\n    <tr>\n        <td>F9 FT B1022</td>\n        <td>4696</td>\n    </tr>\n    <tr>\n        <td>F9 FT B1026</td>\n        <td>4600</td>\n    </tr>\n    <tr>\n        <td>F9 v1.1</td>\n        <td>4535</td>\n    </tr>\n    <tr>\n        <td>F9 v1.1 B1011</td>\n        <td>4428</td>\n    </tr>\n    <tr>\n        <td>F9 B5B1054</td>\n        <td>4400</td>\n    </tr>\n    <tr>\n        <td>F9 B5B1060.1</td>\n        <td>4311</td>\n    </tr>\n    <tr>\n        <td>F9 B5B1062.1</td>\n        <td>4311</td>\n    </tr>\n    <tr>\n        <td>F9 FT  B1032.2</td>\n        <td>4230</td>\n    </tr>\n    <tr>\n        <td>F9 B5 B1051.2</td>\n        <td>4200</td>\n    </tr>\n    <tr>\n        <td>F9 v1.1 B1014</td>\n        <td>4159</td>\n    </tr>\n    <tr>\n        <td>F9 B5 B1046.3</td>\n        <td>4000</td>\n    </tr>\n    <tr>\n        <td>F9 FT  B1029.2</td>\n        <td>3669</td>\n    </tr>\n    <tr>\n        <td>F9 B5  B1046.1</td>\n        <td>3600</td>\n    </tr>\n    <tr>\n        <td>F9 FT B1024</td>\n        <td>3600</td>\n    </tr>\n    <tr>\n        <td>F9 B4 B1042.1</td>\n        <td>3500</td>\n    </tr>\n    <tr>\n        <td>F9 B4 B1039.1</td>\n        <td>3310</td>\n    </tr>\n    <tr>\n        <td>F9 FT B1021.1</td>\n        <td>3136</td>\n    </tr>\n    <tr>\n        <td>F9 B5 B1059.4</td>\n        <td>3130</td>\n    </tr>\n    <tr>\n        <td>F9 FT B1023.1</td>\n        <td>3100</td>\n    </tr>\n    <tr>\n        <td>F9 B5 B1048.2</td>\n        <td>3000</td>\n    </tr>\n    <tr>\n        <td>F9 B5 B1058.4</td>\n        <td>2972</td>\n    </tr>\n    <tr>\n        <td>F9 FT B1035.1</td>\n        <td>2708</td>\n    </tr>\n    <tr>\n        <td>F9 B4 B1045.2</td>\n        <td>2697</td>\n    </tr>\n    <tr>\n        <td>F9 B4  B1039.2</td>\n        <td>2647</td>\n    </tr>\n    <tr>\n        <td>F9 B5B1059.1</td>\n        <td>2617</td>\n    </tr>\n    <tr>\n        <td>F9 B5B1050</td>\n        <td>2500</td>\n    </tr>\n    <tr>\n        <td>F9 B5B1056.1</td>\n        <td>2495</td>\n    </tr>\n    <tr>\n        <td>F9 FT B1031.1</td>\n        <td>2490</td>\n    </tr>\n    <tr>\n        <td>F9 v1.1 B1012</td>\n        <td>2395</td>\n    </tr>\n    <tr>\n        <td>F9 B5 B1056.2</td>\n        <td>2268</td>\n    </tr>\n    <tr>\n        <td>F9 FT B1025.1</td>\n        <td>2257</td>\n    </tr>\n    <tr>\n        <td>F9 v1.1 B1010</td>\n        <td>2216</td>\n    </tr>\n    <tr>\n        <td>F9 FT  B1035.2</td>\n        <td>2205</td>\n    </tr>\n    <tr>\n        <td>F9 FT  B1038.2</td>\n        <td>2150</td>\n    </tr>\n    <tr>\n        <td>F9 FT B1019</td>\n        <td>2034</td>\n    </tr>\n    <tr>\n        <td>F9 B5 B1059.2</td>\n        <td>1977</td>\n    </tr>\n    <tr>\n        <td>F9 v1.1 B1018</td>\n        <td>1952</td>\n    </tr>\n    <tr>\n        <td>F9 v1.1 B1015</td>\n        <td>1898</td>\n    </tr>\n    <tr>\n        <td>F9 B5B1063.1</td>\n        <td>1192</td>\n    </tr>\n    <tr>\n        <td>F9 v1.0  B0007</td>\n        <td>677</td>\n    </tr>\n    <tr>\n        <td>F9 v1.1 B1013</td>\n        <td>570</td>\n    </tr>\n    <tr>\n        <td>F9 v1.1 B1017</td>\n        <td>553</td>\n    </tr>\n    <tr>\n        <td>F9 v1.0  B0005</td>\n        <td>525</td>\n    </tr>\n    <tr>\n        <td>F9 v1.0  B0006</td>\n        <td>500</td>\n    </tr>\n    <tr>\n        <td>F9 v1.1  B1003</td>\n        <td>500</td>\n    </tr>\n    <tr>\n        <td>F9 FT B1038.1</td>\n        <td>475</td>\n    </tr>\n    <tr>\n        <td>F9 B4 B1045.1</td>\n        <td>362</td>\n    </tr>\n    <tr>\n        <td>F9 v1.0  B0003</td>\n        <td>0</td>\n    </tr>\n    <tr>\n        <td>F9 v1.0  B0004</td>\n        <td>0</td>\n    </tr>\n</table>"
                    },
                    "metadata": {}
                }
            ]
        },
        {
            "metadata": {},
            "cell_type": "markdown",
            "source": "### Task 9\n\n##### List the records which will display the month names, succesful landing_outcomes in ground pad ,booster versions, launch_site for the months in year 2017\n"
        },
        {
            "metadata": {},
            "cell_type": "code",
            "source": "%%sql\nSELECT FORMAT(DATE, 'MMMM') AS Month, mission_outcome, booster_version, launch_site, DATE\nFROM SPACEXDATA\nWHERE mission_outcome LIKE '%Success%' AND Date like '%/17%'",
            "execution_count": 44,
            "outputs": [
                {
                    "output_type": "stream",
                    "text": " * ibm_db_sa://qqh11840:***@ba99a9e6-d59e-4883-8fc0-d6a8c9f7a08f.c1ogj3sd0tgtu0lqde00.databases.appdomain.cloud:31321/bludb\nDone.\n",
                    "name": "stdout"
                },
                {
                    "output_type": "execute_result",
                    "execution_count": 44,
                    "data": {
                        "text/plain": "[('Success', 'F9 v1.1 B1017', 'VAFB SLC-4E', '1/17/16'),\n ('Success', 'F9 FT B1029.1', 'VAFB SLC-4E', '1/14/17'),\n ('Success', 'F9 FT B1031.1', 'KSC LC-39A', '2/19/17'),\n ('Success', 'F9 FT B1030', 'KSC LC-39A', '3/16/17'),\n ('Success', 'F9 FT  B1021.2', 'KSC LC-39A', '3/30/17'),\n ('Success', 'F9 FT B1032.1', 'KSC LC-39A', '1/5/17'),\n ('Success', 'F9 FT B1034', 'KSC LC-39A', '5/15/17'),\n ('Success', 'F9 FT B1035.1', 'KSC LC-39A', '3/6/17'),\n ('Success', 'F9 FT  B1029.2', 'KSC LC-39A', '6/23/17'),\n ('Success', 'F9 FT B1036.1', 'VAFB SLC-4E', '6/25/17'),\n ('Success', 'F9 FT B1037', 'KSC LC-39A', '5/7/17'),\n ('Success', 'F9 B4 B1039.1', 'KSC LC-39A', '8/14/17'),\n ('Success', 'F9 FT B1038.1', 'VAFB SLC-4E', '8/24/17'),\n ('Success', 'F9 B4 B1040.1', 'KSC LC-39A', '7/9/17'),\n ('Success', 'F9 B4 B1041.1', 'VAFB SLC-4E', '9/10/17'),\n ('Success', 'F9 FT  B1031.2', 'KSC LC-39A', '11/10/17'),\n ('Success', 'F9 B4 B1042.1', 'KSC LC-39A', '10/30/17'),\n ('Success', 'F9 FT  B1035.2', 'CCAFS SLC-40', '12/15/17'),\n ('Success', 'F9 FT  B1036.2', 'VAFB SLC-4E', '12/23/17'),\n ('Success', 'F9 B5 B1056.3', 'CCAFS SLC-40', '12/17/19'),\n ('Success', 'F9 B5 B1056.4', 'CCAFS SLC-40', '2/17/20')]",
                        "text/html": "<table>\n    <tr>\n        <th>mission_outcome</th>\n        <th>booster_version</th>\n        <th>launch_site</th>\n        <th>DATE</th>\n    </tr>\n    <tr>\n        <td>Success</td>\n        <td>F9 v1.1 B1017</td>\n        <td>VAFB SLC-4E</td>\n        <td>1/17/16</td>\n    </tr>\n    <tr>\n        <td>Success</td>\n        <td>F9 FT B1029.1</td>\n        <td>VAFB SLC-4E</td>\n        <td>1/14/17</td>\n    </tr>\n    <tr>\n        <td>Success</td>\n        <td>F9 FT B1031.1</td>\n        <td>KSC LC-39A</td>\n        <td>2/19/17</td>\n    </tr>\n    <tr>\n        <td>Success</td>\n        <td>F9 FT B1030</td>\n        <td>KSC LC-39A</td>\n        <td>3/16/17</td>\n    </tr>\n    <tr>\n        <td>Success</td>\n        <td>F9 FT  B1021.2</td>\n        <td>KSC LC-39A</td>\n        <td>3/30/17</td>\n    </tr>\n    <tr>\n        <td>Success</td>\n        <td>F9 FT B1032.1</td>\n        <td>KSC LC-39A</td>\n        <td>1/5/17</td>\n    </tr>\n    <tr>\n        <td>Success</td>\n        <td>F9 FT B1034</td>\n        <td>KSC LC-39A</td>\n        <td>5/15/17</td>\n    </tr>\n    <tr>\n        <td>Success</td>\n        <td>F9 FT B1035.1</td>\n        <td>KSC LC-39A</td>\n        <td>3/6/17</td>\n    </tr>\n    <tr>\n        <td>Success</td>\n        <td>F9 FT  B1029.2</td>\n        <td>KSC LC-39A</td>\n        <td>6/23/17</td>\n    </tr>\n    <tr>\n        <td>Success</td>\n        <td>F9 FT B1036.1</td>\n        <td>VAFB SLC-4E</td>\n        <td>6/25/17</td>\n    </tr>\n    <tr>\n        <td>Success</td>\n        <td>F9 FT B1037</td>\n        <td>KSC LC-39A</td>\n        <td>5/7/17</td>\n    </tr>\n    <tr>\n        <td>Success</td>\n        <td>F9 B4 B1039.1</td>\n        <td>KSC LC-39A</td>\n        <td>8/14/17</td>\n    </tr>\n    <tr>\n        <td>Success</td>\n        <td>F9 FT B1038.1</td>\n        <td>VAFB SLC-4E</td>\n        <td>8/24/17</td>\n    </tr>\n    <tr>\n        <td>Success</td>\n        <td>F9 B4 B1040.1</td>\n        <td>KSC LC-39A</td>\n        <td>7/9/17</td>\n    </tr>\n    <tr>\n        <td>Success</td>\n        <td>F9 B4 B1041.1</td>\n        <td>VAFB SLC-4E</td>\n        <td>9/10/17</td>\n    </tr>\n    <tr>\n        <td>Success</td>\n        <td>F9 FT  B1031.2</td>\n        <td>KSC LC-39A</td>\n        <td>11/10/17</td>\n    </tr>\n    <tr>\n        <td>Success</td>\n        <td>F9 B4 B1042.1</td>\n        <td>KSC LC-39A</td>\n        <td>10/30/17</td>\n    </tr>\n    <tr>\n        <td>Success</td>\n        <td>F9 FT  B1035.2</td>\n        <td>CCAFS SLC-40</td>\n        <td>12/15/17</td>\n    </tr>\n    <tr>\n        <td>Success</td>\n        <td>F9 FT  B1036.2</td>\n        <td>VAFB SLC-4E</td>\n        <td>12/23/17</td>\n    </tr>\n    <tr>\n        <td>Success</td>\n        <td>F9 B5 B1056.3</td>\n        <td>CCAFS SLC-40</td>\n        <td>12/17/19</td>\n    </tr>\n    <tr>\n        <td>Success</td>\n        <td>F9 B5 B1056.4</td>\n        <td>CCAFS SLC-40</td>\n        <td>2/17/20</td>\n    </tr>\n</table>"
                    },
                    "metadata": {}
                }
            ]
        },
        {
            "metadata": {},
            "cell_type": "markdown",
            "source": "### Task 10\n\n##### Rank the  count of  successful landing_outcomes between the date 2010-06-04 and 2017-03-20 in descending order.\n"
        },
        {
            "metadata": {},
            "cell_type": "code",
            "source": "%%sql\nSELECT landing__outcome, count(*) as count\nFROM SPACEXDATA\nWHERE landing__outcome LIKE '%Success%' AND (Date between '2010/06/04' and '2017/03/20')\ngroup by landing__outcome\norder by count desc\n",
            "execution_count": 61,
            "outputs": [
                {
                    "output_type": "stream",
                    "text": " * ibm_db_sa://qqh11840:***@ba99a9e6-d59e-4883-8fc0-d6a8c9f7a08f.c1ogj3sd0tgtu0lqde00.databases.appdomain.cloud:31321/bludb\nDone.\n",
                    "name": "stdout"
                },
                {
                    "output_type": "execute_result",
                    "execution_count": 61,
                    "data": {
                        "text/plain": "[]",
                        "text/html": "<table>\n    <tr>\n        <th>landing__outcome</th>\n        <th>DATE</th>\n        <th>COUNT</th>\n    </tr>\n</table>"
                    },
                    "metadata": {}
                }
            ]
        },
        {
            "metadata": {},
            "cell_type": "markdown",
            "source": "### Reference Links\n\n*   <a href =\"https://cf-courses-data.s3.us.cloud-object-storage.appdomain.cloud/IBMDeveloperSkillsNetwork-DB0201EN-SkillsNetwork/labs/Module%203/LAB-String_Patterns_Sorting_Grouping.md.html?utm_medium=Exinfluencer&utm_source=Exinfluencer&utm_content=000026UJ&utm_term=10006555&utm_id=NA-SkillsNetwork-Channel-SkillsNetworkCoursesIBMDS0321ENSkillsNetwork26802033-2021-01-01\">Hands-on Lab : String Patterns, Sorting and Grouping</a>\n\n*   <a  href=\"https://cf-courses-data.s3.us.cloud-object-storage.appdomain.cloud/IBMDeveloperSkillsNetwork-DB0201EN-SkillsNetwork/labs/Labs_Coursera_V5/labs/Lab%20-%20Built-in%20functions%20/Hands-on_Lab__Built-in_Functions.md.html?utm_medium=Exinfluencer&utm_source=Exinfluencer&utm_content=000026UJ&utm_term=10006555&utm_id=NA-SkillsNetwork-Channel-SkillsNetworkCoursesIBMDS0321ENSkillsNetwork26802033-2021-01-01\">Hands-on Lab: Built-in functions</a>\n\n*   <a  href=\"https://cf-courses-data.s3.us.cloud-object-storage.appdomain.cloud/IBMDeveloperSkillsNetwork-DB0201EN-SkillsNetwork/labs/Labs_Coursera_V5/labs/Lab%20-%20Sub-queries%20and%20Nested%20SELECTs%20/instructional-labs.md.html?utm_medium=Exinfluencer&utm_source=Exinfluencer&utm_content=000026UJ&utm_term=10006555&utm_id=NA-SkillsNetwork-Channel-SkillsNetworkCoursesIBMDS0321ENSkillsNetwork26802033-2021-01-01\">Hands-on Lab : Sub-queries and Nested SELECT Statements</a>\n\n*   <a href=\"https://cf-courses-data.s3.us.cloud-object-storage.appdomain.cloud/IBMDeveloperSkillsNetwork-DB0201EN-SkillsNetwork/labs/Module%205/DB0201EN-Week3-1-3-SQLmagic.ipynb?utm_medium=Exinfluencer&utm_source=Exinfluencer&utm_content=000026UJ&utm_term=10006555&utm_id=NA-SkillsNetwork-Channel-SkillsNetworkCoursesIBMDS0321ENSkillsNetwork26802033-2021-01-01\">Hands-on Tutorial: Accessing Databases with SQL magic</a>\n\n*   <a href= \"https://cf-courses-data.s3.us.cloud-object-storage.appdomain.cloud/IBMDeveloperSkillsNetwork-DB0201EN-SkillsNetwork/labs/Module%205/DB0201EN-Week3-1-4-Analyzing.ipynb?utm_medium=Exinfluencer&utm_source=Exinfluencer&utm_content=000026UJ&utm_term=10006555&utm_id=NA-SkillsNetwork-Channel-SkillsNetworkCoursesIBMDS0321ENSkillsNetwork26802033-2021-01-01\">Hands-on Lab: Analyzing a real World Data Set</a>\n"
        },
        {
            "metadata": {},
            "cell_type": "markdown",
            "source": "## Author(s)\n\n<h4> Lakshmi Holla </h4>\n"
        },
        {
            "metadata": {},
            "cell_type": "markdown",
            "source": "## Other Contributors\n\n<h4> Rav Ahuja </h4>\n"
        },
        {
            "metadata": {},
            "cell_type": "markdown",
            "source": "## Change log\n\n| Date       | Version | Changed by    | Change Description        |\n| ---------- | ------- | ------------- | ------------------------- |\n| 2021-08-24 | 0.3     | Lakshmi Holla | Added library update      |\n| 2021-07-09 | 0.2     | Lakshmi Holla | Changes made in magic sql |\n| 2021-05-20 | 0.1     | Lakshmi Holla | Created Initial Version   |\n"
        },
        {
            "metadata": {},
            "cell_type": "markdown",
            "source": "## <h3 align=\"center\"> \u00a9 IBM Corporation 2021. All rights reserved. <h3/>\n"
        }
    ],
    "metadata": {
        "kernelspec": {
            "name": "python3",
            "display_name": "Python 3.8",
            "language": "python"
        },
        "language_info": {
            "name": "python",
            "version": "3.8.11",
            "mimetype": "text/x-python",
            "codemirror_mode": {
                "name": "ipython",
                "version": 3
            },
            "pygments_lexer": "ipython3",
            "nbconvert_exporter": "python",
            "file_extension": ".py"
        }
    },
    "nbformat": 4,
    "nbformat_minor": 4
}